{
  "nbformat": 4,
  "nbformat_minor": 0,
  "metadata": {
    "colab": {
      "provenance": [],
      "authorship_tag": "ABX9TyOrhfISoqOmIuy6ji/z/AOA",
      "include_colab_link": true
    },
    "kernelspec": {
      "name": "python3",
      "display_name": "Python 3"
    },
    "language_info": {
      "name": "python"
    }
  },
  "cells": [
    {
      "cell_type": "markdown",
      "metadata": {
        "id": "view-in-github",
        "colab_type": "text"
      },
      "source": [
        "<a href=\"https://colab.research.google.com/github/viniciusgomesbatista/spark_gcp/blob/main/Dados_sa%C3%BAde_SPARK.ipynb\" target=\"_parent\"><img src=\"https://colab.research.google.com/assets/colab-badge.svg\" alt=\"Open In Colab\"/></a>"
      ]
    },
    {
      "cell_type": "code",
      "execution_count": null,
      "metadata": {
        "id": "E31k32DKSVSh"
      },
      "outputs": [],
      "source": [
        "import pyspark\n",
        "from google.cloud import bigquery\n",
        "from google.cloud import bigquery_storage_v1\n",
        "from pyspark.sql import SparkSession\n",
        "import requests\n",
        "import json\n",
        "import os\n",
        "from pyspark.sql import SparkSession"
      ]
    },
    {
      "cell_type": "code",
      "source": [
        "from pyspark.sql import SparkSession\n",
        "\n",
        "spark = SparkSession.builder \\\n",
        "    .appName(\"BigQuery Integration\") \\\n",
        "    .config(\"spark.jars\", \"/usr/lib/spark/jars/spark-bigquery-with-dependencies_2.12-0.31.1.jar\") \\\n",
        "    .getOrCreate()"
      ],
      "metadata": {
        "id": "U_KykvwAUzdL"
      },
      "execution_count": null,
      "outputs": []
    },
    {
      "cell_type": "code",
      "source": [
        "# URL da API\n",
        "link1 = 'https://transparencia.sns.gov.pt/api/explore/v2.1/catalog/datasets/utentes-inscritos-em-cuidados-de-saude-primarios/records?refine=periodo%3A%222024%22'\n",
        "\n",
        "# Fazer a requisição\n",
        "response = requests.get(link1)\n",
        "\n",
        "if response.status_code == 200:\n",
        "    data = response.json()\n",
        "    results = data[\"results\"]  # Pegamos apenas os registros\n",
        "else:\n",
        "    print(f\"Erro ao acessar API: {response.status_code}\")\n"
      ],
      "metadata": {
        "id": "hlO-ZVYMUG5E"
      },
      "execution_count": null,
      "outputs": []
    },
    {
      "cell_type": "code",
      "source": [
        "# Converter a lista de resultados para um DataFrame PySpark\n",
        "rdd = spark.sparkContext.parallelize(results)\n",
        "df = spark.read.json(rdd)\n",
        "\n",
        "# Exibir o schema e os dados\n",
        "df.printSchema()\n",
        "df.show()"
      ],
      "metadata": {
        "colab": {
          "base_uri": "https://localhost:8080/"
        },
        "id": "Gnr281MjVcfb",
        "outputId": "efad7332-75fe-4564-f93d-c3cb9bb86162"
      },
      "execution_count": null,
      "outputs": [
        {
          "output_type": "stream",
          "name": "stdout",
          "text": [
            "root\n",
            " |-- aces: string (nullable = true)\n",
            " |-- ars: string (nullable = true)\n",
            " |-- detailled_quarter: string (nullable = true)\n",
            " |-- localizacao_geografica: struct (nullable = true)\n",
            " |    |-- lat: double (nullable = true)\n",
            " |    |-- lon: double (nullable = true)\n",
            " |-- periodo: string (nullable = true)\n",
            " |-- quarter: string (nullable = true)\n",
            " |-- taxa_de_utilizacao_consultas_medicas_1_ano_nos_utentes_sem_mdf: double (nullable = true)\n",
            " |-- taxa_de_utilizacao_consultas_medicas_1_ano_todos_os_utentes: double (nullable = true)\n",
            " |-- total_utentes_com_mdf_atribuido: long (nullable = true)\n",
            " |-- total_utentes_com_mdf_atribuido0: double (nullable = true)\n",
            " |-- total_utentes_sem_mdf_atribuido: long (nullable = true)\n",
            " |-- total_utentes_sem_mdf_atribuido0: double (nullable = true)\n",
            " |-- total_utentes_sem_mdf_atribuido_por_opcao: long (nullable = true)\n",
            " |-- total_utentes_sem_mdf_atribuido_por_opcao0: double (nullable = true)\n",
            " |-- utentes_inscritos_csp: long (nullable = true)\n",
            "\n",
            "+--------------------+--------------------+------------------+----------------------+-------+-------+--------------------------------------------------------------+-----------------------------------------------------------+-------------------------------+--------------------------------+-------------------------------+--------------------------------+-----------------------------------------+------------------------------------------+---------------------+\n",
            "|                aces|                 ars| detailled_quarter|localizacao_geografica|periodo|quarter|taxa_de_utilizacao_consultas_medicas_1_ano_nos_utentes_sem_mdf|taxa_de_utilizacao_consultas_medicas_1_ano_todos_os_utentes|total_utentes_com_mdf_atribuido|total_utentes_com_mdf_atribuido0|total_utentes_sem_mdf_atribuido|total_utentes_sem_mdf_atribuido0|total_utentes_sem_mdf_atribuido_por_opcao|total_utentes_sem_mdf_atribuido_por_opcao0|utentes_inscritos_csp|\n",
            "+--------------------+--------------------+------------------+----------------------+-------+-------+--------------------------------------------------------------+-----------------------------------------------------------+-------------------------------+--------------------------------+-------------------------------+--------------------------------+-----------------------------------------+------------------------------------------+---------------------+\n",
            "|    CSP da ULS Braga|               Norte|0.3333333333333333|  {41.629758698, -8...|2024-01| 2024 1|                                                       51.6695|                                                     74.129|                         312152|                           97.77|                           6993|                            2.19|                                      128|                                      0.04|               319273|\n",
            "| CSP da ULS Alto Ave|               Norte|0.3333333333333333|  {41.426805082, -8...|2024-01| 2024 1|                                                       73.6538|                                                    77.8292|                         275179|                           95.76|                          12160|                            4.23|                                       29|                                      0.01|               287368|\n",
            "|CSP da ULS Castel...|              Centro|0.3333333333333333|  {39.831269, -7.48...|2024-01| 2024 1|                                                       56.0991|                                                     60.202|                          84178|                           83.15|                          16954|                           16.75|                                      100|                                       0.1|               101232|\n",
            "|CSP da ULS Estuár...|Lisboa e Vale do ...|0.3333333333333333|  {38.891077, -9.03...|2024-01| 2024 1|                                                       31.9682|                                                    49.7619|                         130620|                           54.72|                         107712|                           45.12|                                      379|                                      0.16|               238711|\n",
            "|CSP da ULS Almada...|Lisboa e Vale do ...|0.3333333333333333|  {38.6276044797217...|2024-01| 2024 1|                                                       33.0714|                                                    59.1494|                         301157|                           81.79|                          66200|                           17.98|                                      853|                                      0.23|               368210|\n",
            "|    CSP da ULS Oeste|Lisboa e Vale do ...|0.3333333333333333|  {39.411452329, -9...|2024-01| 2024 1|                                                       46.5714|                                                    59.5167|                         144008|                           57.96|                         104206|                           41.94|                                      236|                                      0.09|               248450|\n",
            "|CSP da ULS Alto A...|            Alentejo|0.3333333333333333|    {39.2991, -7.4278}|2024-01| 2024 1|                                                       68.0142|                                                    71.4988|                          91392|                           81.11|                          21208|                           18.82|                                       73|                                      0.06|               112673|\n",
            "|CSP da ULS Alto M...|               Norte|0.6666666666666666|  {41.696866, -8.83...|2024-02| 2024 1|                                                       66.2012|                                                    76.2936|                         242202|                            97.3|                           6696|                            2.69|                                       35|                                      0.01|               248933|\n",
            "|CSP da ULS Entre ...|               Norte|0.6666666666666666|  {40.926349, -8.54...|2024-02| 2024 1|                                                       69.1118|                                                    77.0807|                         271489|                           98.89|                           3025|                             1.1|                                       15|                                      0.01|               274529|\n",
            "|    CSP da ULS Braga|               Norte|0.6666666666666666|  {41.629758698, -8...|2024-02| 2024 1|                                                       35.9263|                                                    74.5363|                         315549|                            98.7|                           4044|                            1.26|                                      123|                                      0.04|               319716|\n",
            "+--------------------+--------------------+------------------+----------------------+-------+-------+--------------------------------------------------------------+-----------------------------------------------------------+-------------------------------+--------------------------------+-------------------------------+--------------------------------+-----------------------------------------+------------------------------------------+---------------------+\n",
            "\n"
          ]
        }
      ]
    },
    {
      "cell_type": "code",
      "source": [
        "os.environ[\"GOOGLE_APPLICATION_CREDENTIALS\"] = \"/content/dadossaude-442500-38c7d78c9846.json\""
      ],
      "metadata": {
        "id": "_S35qcQfVfVR"
      },
      "execution_count": null,
      "outputs": []
    },
    {
      "cell_type": "code",
      "source": [
        "# Configurar as variáveis do BigQuery\n",
        "projeto = \"dadossaude\"\n",
        "dataset = \"dados_saude_pt\"\n",
        "tabela = \"inscritos_cuidados_primarios\"\n",
        "tabela_completa = f\"{projeto}:{dataset}.{tabela}\""
      ],
      "metadata": {
        "id": "zDfzYt5jXyc7"
      },
      "execution_count": null,
      "outputs": []
    },
    {
      "cell_type": "code",
      "source": [
        "# Enviar os dados do DataFrame para o BigQuery\n",
        "df.write \\\n",
        "    .format(\"bigquery\") \\\n",
        "    .option(\"credentialsFile\", \"/content/dadossaude-442500-38c7d78c9846.json\") \\\n",
        "    .option(\"table\", \"dadossaude-442500:dados_saude_pt.inscritos_cuidados_primarios\") \\\n",
        "    .option(\"temporaryGcsBucket\", \"temp-bucket-dadossaude\") \\\n",
        "    .mode(\"overwrite\") \\\n",
        "    .save()"
      ],
      "metadata": {
        "id": "Cv-WrfPUazti"
      },
      "execution_count": null,
      "outputs": []
    },
    {
      "cell_type": "markdown",
      "source": [
        "Taxa de Ocupação Hospitalar"
      ],
      "metadata": {
        "id": "SIAD95iqOIpa"
      }
    },
    {
      "cell_type": "code",
      "source": [
        "# URL da API\n",
        "link2 = 'https://transparencia.sns.gov.pt/api/explore/v2.1/catalog/datasets/ocupacao-do-internamento/records?refine=tempo%3A%222024%22'\n",
        "\n",
        "# Fazer a requisição\n",
        "response = requests.get(link2)\n",
        "\n",
        "if response.status_code == 200:\n",
        "    data = response.json()\n",
        "    results = data[\"results\"]  # Pegamos apenas os registros\n",
        "else:\n",
        "    print(f\"Erro ao acessar API: {response.status_code}\")\n",
        "\n",
        "# Converter a lista de resultados para um DataFrame PySpark\n",
        "rdd = spark.sparkContext.parallelize(results)\n",
        "df2 = spark.read.json(rdd)\n",
        "\n",
        "# Exibir o schema e os dados\n",
        "df2.printSchema()\n",
        "df2.show()"
      ],
      "metadata": {
        "id": "WpVSFHOUOeDZ"
      },
      "execution_count": null,
      "outputs": []
    },
    {
      "cell_type": "code",
      "source": [
        "# Enviar os dados do DataFrame para o BigQuery\n",
        "df2.write \\\n",
        "    .format(\"bigquery\") \\\n",
        "    .option(\"credentialsFile\", \"/content/dadossaude-442500-38c7d78c9846.json\") \\\n",
        "    .option(\"table\", \"dadossaude-442500:dados_saude_pt.taxa_ocupacao_hospitalar\") \\\n",
        "    .option(\"temporaryGcsBucket\", \"temp-bucket-dadossaude\") \\\n",
        "    .mode(\"overwrite\") \\\n",
        "    .save()"
      ],
      "metadata": {
        "id": "EXDLxMgtOeiB"
      },
      "execution_count": null,
      "outputs": []
    },
    {
      "cell_type": "markdown",
      "source": [
        "# Partos e Cesarianas nos Cuidados de Saúde Hospitalares"
      ],
      "metadata": {
        "id": "ElX9YPbhOJDh"
      }
    },
    {
      "cell_type": "code",
      "source": [
        "link3 = 'https://transparencia.sns.gov.pt/api/explore/v2.1/catalog/datasets/demora-media-antes-da-cirurgia/records?refine=tempo%3A%222024%22'\n",
        "\n",
        "# Fazer a requisição\n",
        "response = requests.get(link3)\n",
        "\n",
        "if response.status_code == 200:\n",
        "    data = response.json()\n",
        "    results = data[\"results\"]  # Pegamos apenas os registros\n",
        "else:\n",
        "    print(f\"Erro ao acessar API: {response.status_code}\")\n",
        "\n",
        "# Converter a lista de resultados para um DataFrame PySpark\n",
        "rdd = spark.sparkContext.parallelize(results)\n",
        "df3 = spark.read.json(rdd)\n",
        "\n",
        "# Exibir o schema e os dados\n",
        "df3.printSchema()\n",
        "df3.show()"
      ],
      "metadata": {
        "id": "t8xkSSmIO-vi"
      },
      "execution_count": null,
      "outputs": []
    },
    {
      "cell_type": "code",
      "source": [
        "# Enviar os dados do DataFrame para o BigQuery\n",
        "df3.write \\\n",
        "    .format(\"bigquery\") \\\n",
        "    .option(\"credentialsFile\", \"/content/dadossaude-442500-38c7d78c9846.json\") \\\n",
        "    .option(\"table\", \"dadossaude-442500:dados_saude_pt.partos_cesarianas\") \\\n",
        "    .option(\"temporaryGcsBucket\", \"temp-bucket-dadossaude\") \\\n",
        "    .mode(\"overwrite\") \\\n",
        "    .save()"
      ],
      "metadata": {
        "id": "A3VB-iBrPDC7"
      },
      "execution_count": null,
      "outputs": []
    },
    {
      "cell_type": "markdown",
      "source": [
        "# Demora Média antes da Cirurgia"
      ],
      "metadata": {
        "id": "vvvhR9ogO9Rp"
      }
    },
    {
      "cell_type": "code",
      "source": [
        "link4 = 'https://transparencia.sns.gov.pt/api/explore/v2.1/catalog/datasets/demora-media-antes-da-cirurgia/records?refine=tempo%3A%222024%22'\n",
        "\n",
        "# Fazer a requisição\n",
        "response = requests.get(link4)\n",
        "\n",
        "if response.status_code == 200:\n",
        "    data = response.json()\n",
        "    results = data[\"results\"]  # Pegamos apenas os registros\n",
        "else:\n",
        "    print(f\"Erro ao acessar API: {response.status_code}\")\n",
        "\n",
        "# Converter a lista de resultados para um DataFrame PySpark\n",
        "rdd = spark.sparkContext.parallelize(results)\n",
        "df4 = spark.read.json(rdd)\n",
        "\n",
        "# Exibir o schema e os dados\n",
        "df4.printSchema()\n",
        "df4.show()"
      ],
      "metadata": {
        "id": "Qykn7Pl9PKji"
      },
      "execution_count": null,
      "outputs": []
    },
    {
      "cell_type": "code",
      "source": [
        "# Enviar os dados do DataFrame para o BigQuery\n",
        "df4.write \\\n",
        "    .format(\"bigquery\") \\\n",
        "    .option(\"credentialsFile\", \"/content/dadossaude-442500-38c7d78c9846.json\") \\\n",
        "    .option(\"table\", \"dadossaude-442500:dados_saude_pt.demora_antes_cirurgia\") \\\n",
        "    .option(\"temporaryGcsBucket\", \"temp-bucket-dadossaude\") \\\n",
        "    .mode(\"overwrite\") \\\n",
        "    .save()"
      ],
      "metadata": {
        "id": "_gN-rr3hPMZi"
      },
      "execution_count": null,
      "outputs": []
    },
    {
      "cell_type": "markdown",
      "source": [
        "# Atendimentos em Urgência Hospitalar por Triagem de Manchester"
      ],
      "metadata": {
        "id": "2gQ_hh28O66r"
      }
    },
    {
      "cell_type": "code",
      "source": [
        "link5 = 'https://transparencia.sns.gov.pt/api/explore/v2.1/catalog/datasets/atendimentos-em-urgencia-triagem-manchester/records?refine=tempo%3A%222024%22'\n",
        "\n",
        "# Fazer a requisição\n",
        "response = requests.get(link5)\n",
        "\n",
        "if response.status_code == 200:\n",
        "    data = response.json()\n",
        "    results = data[\"results\"]  # Pegamos apenas os registros\n",
        "else:\n",
        "    print(f\"Erro ao acessar API: {response.status_code}\")\n",
        "\n",
        "# Converter a lista de resultados para um DataFrame PySpark\n",
        "rdd = spark.sparkContext.parallelize(results)\n",
        "df5 = spark.read.json(rdd)\n",
        "\n",
        "# Exibir o schema e os dados\n",
        "df5.printSchema()\n",
        "df5.show()"
      ],
      "metadata": {
        "id": "-Z33LTi_PeAk"
      },
      "execution_count": null,
      "outputs": []
    },
    {
      "cell_type": "code",
      "source": [
        "# Enviar os dados do DataFrame para o BigQuery\n",
        "df5.write \\\n",
        "    .format(\"bigquery\") \\\n",
        "    .option(\"credentialsFile\", \"/content/dadossaude-442500-38c7d78c9846.json\") \\\n",
        "    .option(\"table\", \"dadossaude-442500:dados_saude_pt.atendimentos_urgencia\") \\\n",
        "    .option(\"temporaryGcsBucket\", \"temp-bucket-dadossaude\") \\\n",
        "    .mode(\"overwrite\") \\\n",
        "    .save()"
      ],
      "metadata": {
        "id": "0yJtrWQFPkha"
      },
      "execution_count": null,
      "outputs": []
    }
  ]
}