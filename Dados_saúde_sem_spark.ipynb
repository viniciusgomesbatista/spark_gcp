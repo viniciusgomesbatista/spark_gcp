{
  "nbformat": 4,
  "nbformat_minor": 0,
  "metadata": {
    "colab": {
      "provenance": [],
      "authorship_tag": "ABX9TyOu+vy6lT87eawyMZZ0GL6o",
      "include_colab_link": true
    },
    "kernelspec": {
      "name": "python3",
      "display_name": "Python 3"
    },
    "language_info": {
      "name": "python"
    }
  },
  "cells": [
    {
      "cell_type": "markdown",
      "metadata": {
        "id": "view-in-github",
        "colab_type": "text"
      },
      "source": [
        "<a href=\"https://colab.research.google.com/github/viniciusgomesbatista/spark_gcp/blob/main/Dados_sa%C3%BAde_sem_spark.ipynb\" target=\"_parent\"><img src=\"https://colab.research.google.com/assets/colab-badge.svg\" alt=\"Open In Colab\"/></a>"
      ]
    },
    {
      "cell_type": "code",
      "execution_count": null,
      "metadata": {
        "id": "E31k32DKSVSh"
      },
      "outputs": [],
      "source": [
        "from google.cloud import bigquery\n",
        "from google.cloud import bigquery_storage_v1\n",
        "import requests\n",
        "import json\n",
        "import os\n",
        "import pandas as pd"
      ]
    },
    {
      "cell_type": "code",
      "source": [
        "os.environ[\"GOOGLE_APPLICATION_CREDENTIALS\"] = \"/content/dadossaude-442500-38c7d78c9846.json\"\n",
        "# Inicializar cliente do BigQuery\n",
        "client = bigquery.Client()"
      ],
      "metadata": {
        "id": "_S35qcQfVfVR"
      },
      "execution_count": null,
      "outputs": []
    },
    {
      "cell_type": "markdown",
      "source": [
        "# Utentes Inscritos em Cuidados de Saúde Primários"
      ],
      "metadata": {
        "id": "hjXPH9ZevSHm"
      }
    },
    {
      "cell_type": "markdown",
      "source": [
        "* https://transparencia.sns.gov.pt/explore/dataset/utentes-inscritos-em-cuidados-de-saude-primarios/table/?disjunctive.ars&disjunctive.aces&sort=periodo"
      ],
      "metadata": {
        "id": "tUD4f7-JwGGf"
      }
    },
    {
      "cell_type": "code",
      "source": [
        "# URL da API\n",
        "link1 = 'https://transparencia.sns.gov.pt/api/explore/v2.1/catalog/datasets/utentes-inscritos-em-cuidados-de-saude-primarios/records?refine=periodo%3A%222024%22'\n",
        "\n",
        "# Fazer a requisição\n",
        "response = requests.get(link1)\n",
        "\n",
        "if response.status_code == 200:\n",
        "    data = response.json()\n",
        "    results = data[\"results\"]  # Pegamos apenas os registros\n",
        "\n",
        "    # Converter os dados para um DataFrame Pandas\n",
        "    df = pd.json_normalize(results)\n",
        "\n",
        "    print(\"Dados carregados com sucesso!\")\n",
        "else:\n",
        "    print(f\"Erro ao acessar API: {response.status_code}\")\n",
        "\n",
        "# Renomear as colunas para um formato aceito pelo BigQuery\n",
        "df.columns = [col.replace(\".\", \"_\").replace(\"-\", \"_\") for col in df.columns]"
      ],
      "metadata": {
        "id": "hlO-ZVYMUG5E",
        "colab": {
          "base_uri": "https://localhost:8080/"
        },
        "outputId": "15d2c71b-b3b0-41d4-d48a-374426abd322"
      },
      "execution_count": null,
      "outputs": [
        {
          "output_type": "stream",
          "name": "stdout",
          "text": [
            "Dados carregados com sucesso!\n"
          ]
        }
      ]
    },
    {
      "cell_type": "code",
      "source": [
        "# Configurar ID da tabela\n",
        "table_id = \"dadossaude-442500.dados_saude_pt.inscritos_cuidados_primarios\"\n",
        "\n",
        "# Carregar dados no BigQuery\n",
        "job = client.load_table_from_dataframe(df, table_id)  # Enviar o DataFrame Pandas para o BigQuery\n",
        "job.result()  # Esperar o término da tarefa\n",
        "\n",
        "print(f\"Dados enviados para {table_id} com sucesso!\")"
      ],
      "metadata": {
        "colab": {
          "base_uri": "https://localhost:8080/"
        },
        "id": "0vO0GYcElpqJ",
        "outputId": "216df70d-2524-4720-fc05-33cadaee4c95"
      },
      "execution_count": null,
      "outputs": [
        {
          "output_type": "stream",
          "name": "stdout",
          "text": [
            "Dados enviados para dadossaude-442500.dados_saude_pt.inscritos_cuidados_primarios com sucesso!\n"
          ]
        }
      ]
    },
    {
      "cell_type": "markdown",
      "source": [
        "# Taxa de Ocupação Hospitalar"
      ],
      "metadata": {
        "id": "pSFptVr5u3zP"
      }
    },
    {
      "cell_type": "markdown",
      "source": [
        "* https://transparencia.sns.gov.pt/explore/dataset/ocupacao-do-internamento/table/?disjunctive.regiao&disjunctive.instituicao&sort=tempo"
      ],
      "metadata": {
        "id": "EcpYjh62wLxQ"
      }
    },
    {
      "cell_type": "code",
      "source": [
        "# URL da API\n",
        "link2 = 'https://transparencia.sns.gov.pt/api/explore/v2.1/catalog/datasets/ocupacao-do-internamento/records?refine=tempo%3A%222024%22'\n",
        "\n",
        "# Fazer a requisição\n",
        "response = requests.get(link2)\n",
        "\n",
        "if response.status_code == 200:\n",
        "    data = response.json()\n",
        "    results = data[\"results\"]  # Pegamos apenas os registros\n",
        "\n",
        "    # Converter os dados para um DataFrame Pandas\n",
        "    df2 = pd.json_normalize(results)\n",
        "\n",
        "    print(\"Dados carregados com sucesso!\")\n",
        "else:\n",
        "    print(f\"Erro ao acessar API: {response.status_code}\")\n",
        "\n",
        "# Renomear as colunas para um formato aceito pelo BigQuery\n",
        "df2.columns = [col.replace(\".\", \"_\").replace(\"-\", \"_\") for col in df2.columns]"
      ],
      "metadata": {
        "colab": {
          "base_uri": "https://localhost:8080/"
        },
        "id": "u7nxCEhiu5GP",
        "outputId": "decd81c8-878b-41f5-89ca-b964c8703376"
      },
      "execution_count": null,
      "outputs": [
        {
          "output_type": "stream",
          "name": "stdout",
          "text": [
            "Dados carregados com sucesso!\n"
          ]
        }
      ]
    },
    {
      "cell_type": "code",
      "source": [
        "# Configurar ID da tabela\n",
        "table_id = \"dadossaude-442500.dados_saude_pt.taxa_ocupacao_hospitalar\"\n",
        "\n",
        "# Carregar dados no BigQuery\n",
        "job = client.load_table_from_dataframe(df2, table_id)  # Enviar o DataFrame Pandas para o BigQuery\n",
        "job.result()  # Esperar o término da tarefa\n",
        "\n",
        "print(f\"Dados enviados para {table_id} com sucesso!\")"
      ],
      "metadata": {
        "colab": {
          "base_uri": "https://localhost:8080/"
        },
        "id": "ARZnPT8jwrEI",
        "outputId": "d159c794-ce67-40de-ff82-304503ae4100"
      },
      "execution_count": null,
      "outputs": [
        {
          "output_type": "stream",
          "name": "stdout",
          "text": [
            "Dados enviados para dadossaude-442500.dados_saude_pt.taxa_ocupacao_hospitalar com sucesso!\n"
          ]
        }
      ]
    },
    {
      "cell_type": "markdown",
      "source": [
        "# Partos e Cesarianas nos Cuidados de Saúde Hospitalares"
      ],
      "metadata": {
        "id": "cujw1Me4u_GP"
      }
    },
    {
      "cell_type": "markdown",
      "source": [
        "* https://transparencia.sns.gov.pt/explore/dataset/partos-e-cesarianas/table/?disjunctive.regiao&disjunctive.instituicao&sort=tempo\n"
      ],
      "metadata": {
        "id": "TvrNv_yvxCD_"
      }
    },
    {
      "cell_type": "code",
      "source": [
        "# URL da API\n",
        "link3 = 'https://transparencia.sns.gov.pt/api/explore/v2.1/catalog/datasets/demora-media-antes-da-cirurgia/records?refine=tempo%3A%222024%22'\n",
        "\n",
        "# Fazer a requisição\n",
        "response = requests.get(link3)\n",
        "\n",
        "if response.status_code == 200:\n",
        "    data = response.json()\n",
        "    results = data[\"results\"]  # Pegamos apenas os registros\n",
        "\n",
        "    # Converter os dados para um DataFrame Pandas\n",
        "    df3 = pd.json_normalize(results)\n",
        "\n",
        "    print(\"Dados carregados com sucesso!\")\n",
        "else:\n",
        "    print(f\"Erro ao acessar API: {response.status_code}\")\n",
        "\n",
        "# Renomear as colunas para um formato aceito pelo BigQuery\n",
        "df3.columns = [col.replace(\".\", \"_\").replace(\"-\", \"_\") for col in df3.columns]"
      ],
      "metadata": {
        "colab": {
          "base_uri": "https://localhost:8080/"
        },
        "id": "u8zLeMWKvCIv",
        "outputId": "03d6ae17-a3e5-4917-a0df-b4d0ee4e840c"
      },
      "execution_count": null,
      "outputs": [
        {
          "output_type": "stream",
          "name": "stdout",
          "text": [
            "Dados carregados com sucesso!\n"
          ]
        }
      ]
    },
    {
      "cell_type": "code",
      "source": [
        "# Configurar ID da tabela\n",
        "table_id = \"dadossaude-442500.dados_saude_pt.partos_cesarianas\"\n",
        "\n",
        "# Carregar dados no BigQuery\n",
        "job = client.load_table_from_dataframe(df3, table_id)  # Enviar o DataFrame Pandas para o BigQuery\n",
        "job.result()  # Esperar o término da tarefa\n",
        "\n",
        "print(f\"Dados enviados para {table_id} com sucesso!\")"
      ],
      "metadata": {
        "colab": {
          "base_uri": "https://localhost:8080/"
        },
        "id": "H9sp-xW6xR-Y",
        "outputId": "c786bbd3-8c57-4bed-8633-3b0ea855b92e"
      },
      "execution_count": null,
      "outputs": [
        {
          "output_type": "stream",
          "name": "stdout",
          "text": [
            "Dados enviados para dadossaude-442500.dados_saude_pt.partos_cesarianas com sucesso!\n"
          ]
        }
      ]
    },
    {
      "cell_type": "markdown",
      "source": [
        "# Demora Média antes da Cirurgia"
      ],
      "metadata": {
        "id": "6l08mnR7u_T5"
      }
    },
    {
      "cell_type": "markdown",
      "source": [
        "* https://transparencia.sns.gov.pt/explore/dataset/demora-media-antes-da-cirurgia/table/?disjunctive.regiao&disjunctive.instituicao&sort=tempo"
      ],
      "metadata": {
        "id": "NgQOdwKRxgB4"
      }
    },
    {
      "cell_type": "code",
      "source": [
        "# URL da API\n",
        "link4 = 'https://transparencia.sns.gov.pt/api/explore/v2.1/catalog/datasets/demora-media-antes-da-cirurgia/records?refine=tempo%3A%222024%22'\n",
        "\n",
        "# Fazer a requisição\n",
        "response = requests.get(link4)\n",
        "\n",
        "if response.status_code == 200:\n",
        "    data = response.json()\n",
        "    results = data[\"results\"]  # Pegamos apenas os registros\n",
        "\n",
        "    # Converter os dados para um DataFrame Pandas\n",
        "    df4 = pd.json_normalize(results)\n",
        "\n",
        "    print(\"Dados carregados com sucesso!\")\n",
        "else:\n",
        "    print(f\"Erro ao acessar API: {response.status_code}\")\n",
        "\n",
        "# Renomear as colunas para um formato aceito pelo BigQuery\n",
        "df4.columns = [col.replace(\".\", \"_\").replace(\"-\", \"_\") for col in df4.columns]"
      ],
      "metadata": {
        "colab": {
          "base_uri": "https://localhost:8080/"
        },
        "id": "paGQLJIhvDnv",
        "outputId": "2e6c8dd4-76f7-4c56-f25e-ab3d1f4b1554"
      },
      "execution_count": null,
      "outputs": [
        {
          "output_type": "stream",
          "name": "stdout",
          "text": [
            "Dados carregados com sucesso!\n"
          ]
        }
      ]
    },
    {
      "cell_type": "code",
      "source": [
        "# Configurar ID da tabela\n",
        "table_id = \"dadossaude-442500.dados_saude_pt.demora_antes_cirurgia\"\n",
        "\n",
        "# Carregar dados no BigQuery\n",
        "job = client.load_table_from_dataframe(df4, table_id)  # Enviar o DataFrame Pandas para o BigQuery\n",
        "job.result()  # Esperar o término da tarefa\n",
        "\n",
        "print(f\"Dados enviados para {table_id} com sucesso!\")"
      ],
      "metadata": {
        "colab": {
          "base_uri": "https://localhost:8080/"
        },
        "id": "urTx7uszyBQH",
        "outputId": "e20bef33-6f77-468d-bea5-17e861801cfa"
      },
      "execution_count": null,
      "outputs": [
        {
          "output_type": "stream",
          "name": "stdout",
          "text": [
            "Dados enviados para dadossaude-442500.dados_saude_pt.demora_antes_cirurgia com sucesso!\n"
          ]
        }
      ]
    },
    {
      "cell_type": "markdown",
      "source": [
        "# Atendimentos em Urgência Hospitalar por Triagem de Manchester"
      ],
      "metadata": {
        "id": "L-6yj67Lu_cw"
      }
    },
    {
      "cell_type": "markdown",
      "source": [
        "* https://transparencia.sns.gov.pt/explore/dataset/atendimentos-em-urgencia-triagem-manchester/table/?disjunctive.regiao&disjunctive.instituicao&sort=tempo"
      ],
      "metadata": {
        "id": "_5iJp_SGyLGP"
      }
    },
    {
      "cell_type": "code",
      "source": [
        "# URL da API\n",
        "link5 = 'https://transparencia.sns.gov.pt/api/explore/v2.1/catalog/datasets/atendimentos-em-urgencia-triagem-manchester/records?refine=tempo%3A%222024%22'\n",
        "\n",
        "# Fazer a requisição\n",
        "response = requests.get(link5)\n",
        "\n",
        "if response.status_code == 200:\n",
        "    data = response.json()\n",
        "    results = data[\"results\"]  # Pegamos apenas os registros\n",
        "\n",
        "    # Converter os dados para um DataFrame Pandas\n",
        "    df5 = pd.json_normalize(results)\n",
        "\n",
        "    print(\"Dados carregados com sucesso!\")\n",
        "else:\n",
        "    print(f\"Erro ao acessar API: {response.status_code}\")\n",
        "\n",
        "df5.columns = [col.replace('.', '_') for col in df5.columns]"
      ],
      "metadata": {
        "colab": {
          "base_uri": "https://localhost:8080/"
        },
        "id": "REVKi9AOvFHm",
        "outputId": "0bd10a2d-edf4-4e67-db0e-8cefc2d967d9"
      },
      "execution_count": null,
      "outputs": [
        {
          "output_type": "stream",
          "name": "stdout",
          "text": [
            "Dados carregados com sucesso!\n"
          ]
        }
      ]
    },
    {
      "cell_type": "code",
      "source": [
        "# Configurar ID da tabela\n",
        "table_id = \"dadossaude-442500.dados_saude_pt.atendimentos_urgencia\"\n",
        "\n",
        "# Carregar dados no BigQuery\n",
        "job = client.load_table_from_dataframe(df5, table_id)  # Enviar o DataFrame Pandas para o BigQuery\n",
        "job.result()  # Esperar o término da tarefa\n",
        "\n",
        "print(f\"Dados enviados para {table_id} com sucesso!\")"
      ],
      "metadata": {
        "colab": {
          "base_uri": "https://localhost:8080/"
        },
        "id": "klnk8OtqyeVd",
        "outputId": "7307338d-c2fc-4ab6-8f48-7b29ec11904b"
      },
      "execution_count": null,
      "outputs": [
        {
          "output_type": "stream",
          "name": "stdout",
          "text": [
            "Dados enviados para dadossaude-442500.dados_saude_pt.atendimentos_urgencia com sucesso!\n"
          ]
        }
      ]
    }
  ]
}